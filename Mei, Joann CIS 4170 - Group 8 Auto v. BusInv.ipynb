{
 "cells": [
  {
   "cell_type": "code",
   "execution_count": 607,
   "id": "36c82f61",
   "metadata": {},
   "outputs": [],
   "source": [
    "import pandas as pd\n",
    "import matplotlib.pyplot as plt"
   ]
  },
  {
   "cell_type": "code",
   "execution_count": 612,
   "id": "5ebd72b6",
   "metadata": {},
   "outputs": [
    {
     "data": {
      "text/html": [
       "<div>\n",
       "<style scoped>\n",
       "    .dataframe tbody tr th:only-of-type {\n",
       "        vertical-align: middle;\n",
       "    }\n",
       "\n",
       "    .dataframe tbody tr th {\n",
       "        vertical-align: top;\n",
       "    }\n",
       "\n",
       "    .dataframe thead th {\n",
       "        text-align: right;\n",
       "    }\n",
       "</style>\n",
       "<table border=\"1\" class=\"dataframe\">\n",
       "  <thead>\n",
       "    <tr style=\"text-align: right;\">\n",
       "      <th></th>\n",
       "      <th>DATE</th>\n",
       "      <th>BUSINV</th>\n",
       "    </tr>\n",
       "  </thead>\n",
       "  <tbody>\n",
       "    <tr>\n",
       "      <th>0</th>\n",
       "      <td>2007-10-01</td>\n",
       "      <td>1466275</td>\n",
       "    </tr>\n",
       "    <tr>\n",
       "      <th>1</th>\n",
       "      <td>2007-11-01</td>\n",
       "      <td>1476711</td>\n",
       "    </tr>\n",
       "    <tr>\n",
       "      <th>2</th>\n",
       "      <td>2007-12-01</td>\n",
       "      <td>1488235</td>\n",
       "    </tr>\n",
       "    <tr>\n",
       "      <th>3</th>\n",
       "      <td>2008-01-01</td>\n",
       "      <td>1500273</td>\n",
       "    </tr>\n",
       "    <tr>\n",
       "      <th>4</th>\n",
       "      <td>2008-02-01</td>\n",
       "      <td>1507254</td>\n",
       "    </tr>\n",
       "    <tr>\n",
       "      <th>...</th>\n",
       "      <td>...</td>\n",
       "      <td>...</td>\n",
       "    </tr>\n",
       "    <tr>\n",
       "      <th>180</th>\n",
       "      <td>2022-10-01</td>\n",
       "      <td>2458874</td>\n",
       "    </tr>\n",
       "    <tr>\n",
       "      <th>181</th>\n",
       "      <td>2022-11-01</td>\n",
       "      <td>2466292</td>\n",
       "    </tr>\n",
       "    <tr>\n",
       "      <th>182</th>\n",
       "      <td>2022-12-01</td>\n",
       "      <td>2472058</td>\n",
       "    </tr>\n",
       "    <tr>\n",
       "      <th>183</th>\n",
       "      <td>2023-01-01</td>\n",
       "      <td>2466430</td>\n",
       "    </tr>\n",
       "    <tr>\n",
       "      <th>184</th>\n",
       "      <td>2023-02-01</td>\n",
       "      <td>2471584</td>\n",
       "    </tr>\n",
       "  </tbody>\n",
       "</table>\n",
       "<p>185 rows × 2 columns</p>\n",
       "</div>"
      ],
      "text/plain": [
       "           DATE   BUSINV\n",
       "0    2007-10-01  1466275\n",
       "1    2007-11-01  1476711\n",
       "2    2007-12-01  1488235\n",
       "3    2008-01-01  1500273\n",
       "4    2008-02-01  1507254\n",
       "..          ...      ...\n",
       "180  2022-10-01  2458874\n",
       "181  2022-11-01  2466292\n",
       "182  2022-12-01  2472058\n",
       "183  2023-01-01  2466430\n",
       "184  2023-02-01  2471584\n",
       "\n",
       "[185 rows x 2 columns]"
      ]
     },
     "execution_count": 612,
     "metadata": {},
     "output_type": "execute_result"
    }
   ],
   "source": [
    "# data source\n",
    "\n",
    "businv = pd.read_csv('BUSINV.csv')\n",
    "businvdf = pd.DataFrame(businv)\n",
    "\n",
    "ALTSALES = pd.read_csv('ALTSALES.csv')\n",
    "ALTSALESdf = pd.DataFrame(ALTSALES)\n",
    "\n",
    "businvdf"
   ]
  },
  {
   "cell_type": "code",
   "execution_count": 613,
   "id": "da016e57",
   "metadata": {},
   "outputs": [
    {
     "data": {
      "text/html": [
       "<div>\n",
       "<style scoped>\n",
       "    .dataframe tbody tr th:only-of-type {\n",
       "        vertical-align: middle;\n",
       "    }\n",
       "\n",
       "    .dataframe tbody tr th {\n",
       "        vertical-align: top;\n",
       "    }\n",
       "\n",
       "    .dataframe thead th {\n",
       "        text-align: right;\n",
       "    }\n",
       "</style>\n",
       "<table border=\"1\" class=\"dataframe\">\n",
       "  <thead>\n",
       "    <tr style=\"text-align: right;\">\n",
       "      <th></th>\n",
       "      <th>DATE</th>\n",
       "      <th>ALTSALES</th>\n",
       "    </tr>\n",
       "  </thead>\n",
       "  <tbody>\n",
       "    <tr>\n",
       "      <th>0</th>\n",
       "      <td>2007-11-01</td>\n",
       "      <td>1603800.0</td>\n",
       "    </tr>\n",
       "    <tr>\n",
       "      <th>1</th>\n",
       "      <td>2007-12-01</td>\n",
       "      <td>1571800.0</td>\n",
       "    </tr>\n",
       "    <tr>\n",
       "      <th>2</th>\n",
       "      <td>2008-01-01</td>\n",
       "      <td>1538300.0</td>\n",
       "    </tr>\n",
       "    <tr>\n",
       "      <th>3</th>\n",
       "      <td>2008-02-01</td>\n",
       "      <td>1516600.0</td>\n",
       "    </tr>\n",
       "    <tr>\n",
       "      <th>4</th>\n",
       "      <td>2008-03-01</td>\n",
       "      <td>1479500.0</td>\n",
       "    </tr>\n",
       "    <tr>\n",
       "      <th>...</th>\n",
       "      <td>...</td>\n",
       "      <td>...</td>\n",
       "    </tr>\n",
       "    <tr>\n",
       "      <th>181</th>\n",
       "      <td>2022-12-01</td>\n",
       "      <td>1337400.0</td>\n",
       "    </tr>\n",
       "    <tr>\n",
       "      <th>182</th>\n",
       "      <td>2023-01-01</td>\n",
       "      <td>1595200.0</td>\n",
       "    </tr>\n",
       "    <tr>\n",
       "      <th>183</th>\n",
       "      <td>2023-02-01</td>\n",
       "      <td>1492100.0</td>\n",
       "    </tr>\n",
       "    <tr>\n",
       "      <th>184</th>\n",
       "      <td>2023-03-01</td>\n",
       "      <td>1484000.0</td>\n",
       "    </tr>\n",
       "    <tr>\n",
       "      <th>185</th>\n",
       "      <td>2023-04-01</td>\n",
       "      <td>1591400.0</td>\n",
       "    </tr>\n",
       "  </tbody>\n",
       "</table>\n",
       "<p>186 rows × 2 columns</p>\n",
       "</div>"
      ],
      "text/plain": [
       "           DATE   ALTSALES\n",
       "0    2007-11-01  1603800.0\n",
       "1    2007-12-01  1571800.0\n",
       "2    2008-01-01  1538300.0\n",
       "3    2008-02-01  1516600.0\n",
       "4    2008-03-01  1479500.0\n",
       "..          ...        ...\n",
       "181  2022-12-01  1337400.0\n",
       "182  2023-01-01  1595200.0\n",
       "183  2023-02-01  1492100.0\n",
       "184  2023-03-01  1484000.0\n",
       "185  2023-04-01  1591400.0\n",
       "\n",
       "[186 rows x 2 columns]"
      ]
     },
     "execution_count": 613,
     "metadata": {},
     "output_type": "execute_result"
    }
   ],
   "source": [
    "ALTSALESdf['ALTSALES'] = ALTSALESdf['ALTSALES'] * 100000\n",
    "ALTSALESdf"
   ]
  },
  {
   "cell_type": "code",
   "execution_count": 615,
   "id": "0c2aa37b",
   "metadata": {},
   "outputs": [
    {
     "data": {
      "text/html": [
       "<div>\n",
       "<style scoped>\n",
       "    .dataframe tbody tr th:only-of-type {\n",
       "        vertical-align: middle;\n",
       "    }\n",
       "\n",
       "    .dataframe tbody tr th {\n",
       "        vertical-align: top;\n",
       "    }\n",
       "\n",
       "    .dataframe thead th {\n",
       "        text-align: right;\n",
       "    }\n",
       "</style>\n",
       "<table border=\"1\" class=\"dataframe\">\n",
       "  <thead>\n",
       "    <tr style=\"text-align: right;\">\n",
       "      <th></th>\n",
       "      <th>BUSINV</th>\n",
       "      <th>ALTSALES</th>\n",
       "    </tr>\n",
       "    <tr>\n",
       "      <th>DATE</th>\n",
       "      <th></th>\n",
       "      <th></th>\n",
       "    </tr>\n",
       "  </thead>\n",
       "  <tbody>\n",
       "    <tr>\n",
       "      <th>2007-11-01</th>\n",
       "      <td>1476711</td>\n",
       "      <td>1603800.0</td>\n",
       "    </tr>\n",
       "    <tr>\n",
       "      <th>2007-12-01</th>\n",
       "      <td>1488235</td>\n",
       "      <td>1571800.0</td>\n",
       "    </tr>\n",
       "    <tr>\n",
       "      <th>2008-01-01</th>\n",
       "      <td>1500273</td>\n",
       "      <td>1538300.0</td>\n",
       "    </tr>\n",
       "    <tr>\n",
       "      <th>2008-02-01</th>\n",
       "      <td>1507254</td>\n",
       "      <td>1516600.0</td>\n",
       "    </tr>\n",
       "    <tr>\n",
       "      <th>2008-03-01</th>\n",
       "      <td>1507954</td>\n",
       "      <td>1479500.0</td>\n",
       "    </tr>\n",
       "    <tr>\n",
       "      <th>...</th>\n",
       "      <td>...</td>\n",
       "      <td>...</td>\n",
       "    </tr>\n",
       "    <tr>\n",
       "      <th>2022-10-01</th>\n",
       "      <td>2458874</td>\n",
       "      <td>1528100.0</td>\n",
       "    </tr>\n",
       "    <tr>\n",
       "      <th>2022-11-01</th>\n",
       "      <td>2466292</td>\n",
       "      <td>1434100.0</td>\n",
       "    </tr>\n",
       "    <tr>\n",
       "      <th>2022-12-01</th>\n",
       "      <td>2472058</td>\n",
       "      <td>1337400.0</td>\n",
       "    </tr>\n",
       "    <tr>\n",
       "      <th>2023-01-01</th>\n",
       "      <td>2466430</td>\n",
       "      <td>1595200.0</td>\n",
       "    </tr>\n",
       "    <tr>\n",
       "      <th>2023-02-01</th>\n",
       "      <td>2471584</td>\n",
       "      <td>1492100.0</td>\n",
       "    </tr>\n",
       "  </tbody>\n",
       "</table>\n",
       "<p>184 rows × 2 columns</p>\n",
       "</div>"
      ],
      "text/plain": [
       "             BUSINV   ALTSALES\n",
       "DATE                          \n",
       "2007-11-01  1476711  1603800.0\n",
       "2007-12-01  1488235  1571800.0\n",
       "2008-01-01  1500273  1538300.0\n",
       "2008-02-01  1507254  1516600.0\n",
       "2008-03-01  1507954  1479500.0\n",
       "...             ...        ...\n",
       "2022-10-01  2458874  1528100.0\n",
       "2022-11-01  2466292  1434100.0\n",
       "2022-12-01  2472058  1337400.0\n",
       "2023-01-01  2466430  1595200.0\n",
       "2023-02-01  2471584  1492100.0\n",
       "\n",
       "[184 rows x 2 columns]"
      ]
     },
     "execution_count": 615,
     "metadata": {},
     "output_type": "execute_result"
    }
   ],
   "source": [
    "#Merged Auto and Business Inventories together on Date\n",
    "output2 = pd.merge(businvdf, ALTSALESdf, \n",
    "                   on='DATE', \n",
    "                   how='left')\n",
    "output2['DATE'] = pd.to_datetime(output2['DATE'])\n",
    "output2.set_index('DATE', inplace=True)\n",
    "output2 = output2.drop(output2.index[0])\n",
    "output2.index = pd.to_datetime(output2.index)\n",
    "output2"
   ]
  },
  {
   "cell_type": "code",
   "execution_count": 616,
   "id": "4c2259e4",
   "metadata": {},
   "outputs": [
    {
     "data": {
      "image/png": "[encoded data removed]",
      "text/plain": [
       "<Figure size 432x288 with 1 Axes>"
      ]
     },
     "metadata": {
      "needs_background": "light"
     },
     "output_type": "display_data"
    }
   ],
   "source": [
    "output2.plot(title='Business Inventories v. Auto Sales from 2007-2023')\n",
    "plt.legend(['Business Inventory Units', 'Auto and Light Trucks Sales'])\n",
    "plt.xlabel('Date')\n",
    "plt.ylabel('Millions of Dollars')\n",
    "plt.show()"
   ]
  },
  {
   "cell_type": "code",
   "execution_count": 627,
   "id": "a83a91f1",
   "metadata": {},
   "outputs": [],
   "source": [
    "#businvdf2[\"Year\"] = [i for i in range(2007,2024)]"
   ]
  },
  {
   "cell_type": "code",
   "execution_count": 629,
   "id": "e7a9104a",
   "metadata": {},
   "outputs": [],
   "source": [
    "import pandas_bokeh\n",
    "from bokeh.plotting import figure,output_notebook, show\n",
    "from bokeh.models import NumeralTickFormatter\n",
    "from bokeh.layouts import column"
   ]
  },
  {
   "cell_type": "code",
   "execution_count": 630,
   "id": "c9757ecd",
   "metadata": {},
   "outputs": [
    {
     "data": {
      "text/html": [
       "\n",
       "\n",
       "\n",
       "\n",
       "\n",
       "\n",
       "  <div class=\"bk-root\" id=\"2c64f3f4-824b-4ed3-abcb-c18741aafd7e\" data-root-id=\"119834\"></div>\n"
      ]
     },
     "metadata": {},
     "output_type": "display_data"
    },
    {
     "data": {
      "application/javascript": [
       "(function(root) {\n",
       "  function embed_document(root) {\n",
       "    \n",
       "  const docs_json = {\"1f51cbeb-fc9f-4ca9-98ab-25f3efe20100\":{\"defs\":[],\"roots\":{\"references\":[{\"attributes\":{\"children\":[{\"id\":\"119706\"},{\"id\":\"119770\"}]},\"id\":\"119834\",\"type\":\"Column\"},{\"attributes\":{},\"id\":\"119709\",\"type\":\"DataRange1d\"},{\"attributes\":{\"below\":[{\"id\":\"119715\"}],\"center\":[{\"id\":\"119718\"},{\"id\":\"119722\"},{\"id\":\"119766\"}],\"height\":500,\"left\":[{\"id\":\"119719\"}],\"renderers\":[{\"id\":\"119741\"}],\"title\":{\"id\":\"119768\"},\"toolbar\":{\"id\":\"119730\"},\"width\":500,\"x_range\":{\"id\":\"119707\"},\"x_scale\":{\"id\":\"119711\"},\"y_range\":{\"id\":\"119709\"},\"y_scale\":{\"id\":\"119713\"}},\"id\":\"119706\",\"subtype\":\"Figure\",\"type\":\"Plot\"},{\"attributes\":{\"line_alpha\":0.1,\"line_color\":\"Red\",\"x\":{\"field\":\"DATE\"},\"y\":{\"field\":\"ALTSALES\"}},\"id\":\"119803\",\"type\":\"Line\"},{\"attributes\":{},\"id\":\"119724\",\"type\":\"WheelZoomTool\"},{\"attributes\":{},\"id\":\"119720\",\"type\":\"BasicTicker\"},{\"attributes\":{\"line_alpha\":0.2,\"line_color\":\"Red\",\"x\":{\"field\":\"DATE\"},\"y\":{\"field\":\"ALTSALES\"}},\"id\":\"119804\",\"type\":\"Line\"},{\"attributes\":{\"bottom_units\":\"screen\",\"coordinates\":null,\"fill_alpha\":0.5,\"fill_color\":\"lightgrey\",\"group\":null,\"left_units\":\"screen\",\"level\":\"overlay\",\"line_alpha\":1.0,\"line_color\":\"black\",\"line_dash\":[4,4],\"line_width\":2,\"right_units\":\"screen\",\"syncable\":false,\"top_units\":\"screen\"},\"id\":\"119729\",\"type\":\"BoxAnnotation\"},{\"attributes\":{},\"id\":\"119727\",\"type\":\"ResetTool\"},{\"attributes\":{},\"id\":\"119728\",\"type\":\"HelpTool\"},{\"attributes\":{},\"id\":\"119813\",\"type\":\"DatetimeTickFormatter\"},{\"attributes\":{\"overlay\":{\"id\":\"119729\"}},\"id\":\"119725\",\"type\":\"BoxZoomTool\"},{\"attributes\":{\"num_minor_ticks\":5,\"tickers\":[{\"id\":\"119754\"},{\"id\":\"119755\"},{\"id\":\"119756\"},{\"id\":\"119757\"},{\"id\":\"119758\"},{\"id\":\"119759\"},{\"id\":\"119760\"},{\"id\":\"119761\"},{\"id\":\"119762\"},{\"id\":\"119763\"},{\"id\":\"119764\"},{\"id\":\"119765\"}]},\"id\":\"119716\",\"type\":\"DatetimeTicker\"},{\"attributes\":{},\"id\":\"119711\",\"type\":\"LinearScale\"},{\"attributes\":{},\"id\":\"119814\",\"type\":\"AllLabels\"},{\"attributes\":{\"line_alpha\":0.2,\"line_color\":\"#1f77b4\",\"x\":{\"field\":\"DATE\"},\"y\":{\"field\":\"BUSINV\"}},\"id\":\"119740\",\"type\":\"Line\"},{\"attributes\":{\"axis\":{\"id\":\"119715\"},\"coordinates\":null,\"group\":null,\"ticker\":null},\"id\":\"119718\",\"type\":\"Grid\"},{\"attributes\":{},\"id\":\"119746\",\"type\":\"BasicTickFormatter\"},{\"attributes\":{\"label\":{\"value\":\"Auto and Light Trucks Sales\"},\"renderers\":[{\"id\":\"119805\"}]},\"id\":\"119831\",\"type\":\"LegendItem\"},{\"attributes\":{},\"id\":\"119751\",\"type\":\"UnionRenderers\"},{\"attributes\":{},\"id\":\"119713\",\"type\":\"LinearScale\"},{\"attributes\":{\"axis_label\":\"Millions of Dollars of Business Inventory\",\"coordinates\":null,\"formatter\":{\"id\":\"119746\"},\"group\":null,\"major_label_policy\":{\"id\":\"119747\"},\"ticker\":{\"id\":\"119720\"}},\"id\":\"119719\",\"type\":\"LinearAxis\"},{\"attributes\":{\"axis_label\":\"Year\",\"coordinates\":null,\"formatter\":{\"id\":\"119749\"},\"group\":null,\"major_label_policy\":{\"id\":\"119750\"},\"ticker\":{\"id\":\"119716\"}},\"id\":\"119715\",\"type\":\"DatetimeAxis\"},{\"attributes\":{\"line_color\":\"#1f77b4\",\"x\":{\"field\":\"DATE\"},\"y\":{\"field\":\"BUSINV\"}},\"id\":\"119738\",\"type\":\"Line\"},{\"attributes\":{},\"id\":\"119811\",\"type\":\"AllLabels\"},{\"attributes\":{},\"id\":\"119810\",\"type\":\"BasicTickFormatter\"},{\"attributes\":{},\"id\":\"119750\",\"type\":\"AllLabels\"},{\"attributes\":{\"source\":{\"id\":\"119705\"}},\"id\":\"119742\",\"type\":\"CDSView\"},{\"attributes\":{},\"id\":\"119723\",\"type\":\"PanTool\"},{\"attributes\":{},\"id\":\"119752\",\"type\":\"Selection\"},{\"attributes\":{},\"id\":\"119726\",\"type\":\"SaveTool\"},{\"attributes\":{},\"id\":\"119747\",\"type\":\"AllLabels\"},{\"attributes\":{},\"id\":\"119829\",\"type\":\"YearsTicker\"},{\"attributes\":{\"label\":{\"value\":\"Business Inventory Units\"},\"renderers\":[{\"id\":\"119741\"}]},\"id\":\"119767\",\"type\":\"LegendItem\"},{\"attributes\":{\"line_alpha\":0.1,\"line_color\":\"#1f77b4\",\"x\":{\"field\":\"DATE\"},\"y\":{\"field\":\"BUSINV\"}},\"id\":\"119739\",\"type\":\"Line\"},{\"attributes\":{\"tools\":[{\"id\":\"119723\"},{\"id\":\"119724\"},{\"id\":\"119725\"},{\"id\":\"119726\"},{\"id\":\"119727\"},{\"id\":\"119728\"}]},\"id\":\"119730\",\"type\":\"Toolbar\"},{\"attributes\":{\"coordinates\":null,\"group\":null,\"items\":[{\"id\":\"119831\"}],\"location\":\"top_left\"},\"id\":\"119830\",\"type\":\"Legend\"},{\"attributes\":{},\"id\":\"119749\",\"type\":\"DatetimeTickFormatter\"},{\"attributes\":{\"source\":{\"id\":\"119705\"}},\"id\":\"119806\",\"type\":\"CDSView\"},{\"attributes\":{},\"id\":\"119707\",\"type\":\"DataRange1d\"},{\"attributes\":{\"coordinates\":null,\"data_source\":{\"id\":\"119705\"},\"glyph\":{\"id\":\"119738\"},\"group\":null,\"hover_glyph\":null,\"muted_glyph\":{\"id\":\"119740\"},\"nonselection_glyph\":{\"id\":\"119739\"},\"view\":{\"id\":\"119742\"}},\"id\":\"119741\",\"type\":\"GlyphRenderer\"},{\"attributes\":{\"coordinates\":null,\"group\":null,\"items\":[{\"id\":\"119767\"}],\"location\":\"top_left\"},\"id\":\"119766\",\"type\":\"Legend\"},{\"attributes\":{\"data\":{\"ALTSALES\":{\"__ndarray__\":\"AAAAANh4OEEAAAAA2Ps3QQAAAAD8eDdBAAAAADgkN0EAAAAATJM2QQAAAABwxTVBAAAAAPDqNUEAAAAAJHY1QQAAAADMZjNBAAAAAOgbNUEAAAAAQFwzQQAAAABoRjBBAQAAALhLL0EAAAAAqPIuQQAAAADoNi1BAAAAADiJK0EAAAAAgCYtQf////8nESxBAAAAAGCBLkEAAAAAIGIuQQAAAABoWTFBAAAAAKA6NkEAAAAAWIYsQQAAAABYpi9BAAAAAGSBMEEAAAAAUOAwQQAAAACURzBBAAAAAODYLkEAAAAA5KAxQQAAAAAkKjFBAAAAAJQJMkEAAAAARF8xQQAAAAAs4DFBAAAAACgCMkEAAAAAfNsxQQAAAAA8nTJBAAAAANhqMkEAAAAAHOUyQQAAAAAsJTNBAAAAANyNM0EAAAAA4M8zQQAAAACU5DNBAAAAALBHMkEAAAAA1KsxQQAAAAAs8zJBAAAAALS7MkEAAAAASOAzQQAAAADcbjRBAAAAALh0NEEAAAAA3Ic0QQAAAABoczVBAAAAAMRNNkEAAAAAVLk1QQAAAAAg/DVBAAAAAHyRNUEAAAAA2Io1QQAAAABMZzVBAAAAALCANUEAAAAAPIU2QQAAAACIJTZBAAAAACgWN0EAAAAApBI3QQAAAACInDdBAAAAAPCsN0EAAAAAUIQ3QQAAAACMkzdBAAAAACS1N0EAAAAAuBE4QQAAAACo6jdBAAAAADihN0EAAAAACKk3QQAAAACobTdBAAAAAEj6N0EAAAAAPJg3QQAAAACkRDdBAAAAAGTUN0EBAAAAuFY5QQAAAABg1zhB/////+OJOUEAAAAAdCE6QQAAAABstjlBAAAAAKClOUEAAAAA3Dc5QQAAAABY6ThBAAAAAIA+OUEBAAAAtJE5QQAAAAAoIzlB/////xMeOUEAAAAA7KM6Qf/////jUTpBAAAAAECvOkEAAAAARI06QQEAAACsMztBAQAAANBfO0H/////AzY7QQEAAAAoMDtBAAAAALxBO0EAAAAARBA6QQAAAADo3jpBAAAAAKDqOkEAAAAAqKw5QQAAAAAcUTpBAAAAACBhOkEAAAAAGHM6QQAAAABAEztBAAAAAPTDOkEBAAAA2NA6QQEAAABY3TpBAQAAACyROkH/////h1I7QQAAAADoYTpBAAAAAEhrOkH/////P2o5QQAAAAAslzlBAQAAAGBtOUEAAAAAnHw5Qf/////nsjlBAAAAANhZOUEAAAAAdE07QQAAAABMjjtBAAAAAHjHOkEAAAAAdJ46Qf////9jEzpBAAAAAPzpOUEAAAAAcCo6QQEAAADYOjpBAAAAAHAROkEAAAAAwAw6QQAAAADI4TlBAAAAAFDDOUEAAAAAHGo6QQAAAACcJTtBAAAAAMC7OkEAAAAAZPQ6QQAAAAAslzlBAAAAACAcOUEAAAAAAEU6QQEAAAC86ThBAQAAAAgzOkEBAAAAMCQ6QQAAAACY6TlB/////48UOkH/////s0A6QQAAAAD80DlBAQAAAKw5OkEAAAAA7A06QQAAAABQwzlBAQAAAIxVOUEAAAAAdD4xQQAAAADILCpBAAAAAAxaMkEAAAAA4LYzQQAAAAB0azZBAAAAABxKN0EAAAAAAM44QQAAAABEYTlBAAAAAGBzOEEAAAAASCY5QQAAAAAYqzlBAAAAAFTfN0EAAAAADAs7Qf/////TujtB/////792OUEAAAAAiFE3QQAAAADwTjZBAAAAAADsM0EAAAAA/MgyQQAAAACgLTRBAAAAAFz+M0EAAAAAMGczQQAAAAAgDzdBAAAAAAjtNEEAAAAA7K40QQAAAABMyzVBAAAAAKwxM0EAAAAAtOczQQAAAADIUDRBAAAAAIgxNEEAAAAAWM80QQAAAAAkUTdBAAAAAPThNUEAAAAAOGg0QQAAAABAVzhBAAAAAITENkE=\",\"dtype\":\"float64\",\"order\":\"little\",\"shape\":[184]},\"BUSINV\":[1476711,1488235,1500273,1507254,1507954,1514500,1517410,1526797,1535784,1539096,1528676,1514303,1498141,1465791,1448108,1427127,1406242,1387601,1372420,1354610,1338635,1321616,1315445,1323731,1334188,1331724,1334024,1342810,1348723,1353793,1358003,1367802,1380021,1391903,1407137,1423612,1434604,1450655,1462613,1472405,1489202,1502745,1520933,1527307,1534675,1542149,1536963,1551018,1558157,1567519,1573930,1587109,1593441,1601743,1606170,1612127,1625149,1631918,1644771,1645674,1651868,1658372,1670510,1672719,1672793,1676749,1672742,1675962,1680327,1689002,1698527,1708488,1718498,1727517,1733641,1743177,1751233,1758236,1766201,1770242,1775330,1781548,1783478,1787514,1792479,1790258,1790541,1796110,1799513,1805536,1809895,1821352,1821934,1824656,1828249,1830953,1827209,1823662,1823964,1819217,1825535,1831509,1836736,1837378,1838941,1839478,1842511,1843940,1855581,1859476,1863533,1866788,1870321,1868727,1873141,1881356,1888090,1898902,1901909,1902866,1910844,1917863,1926128,1937107,1936750,1941928,1944939,1947405,1958405,1969335,1979715,1989311,1987184,2001713,2015507,2024558,2026682,2037747,2042706,2045451,2050688,2051745,2050356,2049771,2045201,2043089,2035366,2024835,2019013,1990821,1943475,1920935,1923969,1935064,1949483,1966575,1975547,1985542,1997969,2012101,2011921,2008834,2021110,2037482,2052646,2070538,2088896,2114550,2146651,2197933,2227277,2265923,2314760,2344496,2383214,2414605,2426864,2448394,2452641,2458874,2466292,2472058,2466430,2471584],\"DATE\":{\"__ndarray__\":\"AACAHYhfcUIAAAAKMGlxQgAAQFwqc3FCAACAriR9cUIAAEA1eoZxQgAAgId0kHFCAAAAdByacUIAAEDGFqRxQgAAwLK+rXFCAAAABbm3cUIAAEBXs8FxQgAAwENby3FCAAAAllXVcUIAAICC/d5xQgAAwNT36HFCAAAAJ/LycUIAAABI9ftxQgAAQJrvBXJCAADAhpcPckIAAADZkRlyQgAAgMU5I3JCAADAFzQtckIAAABqLjdyQgAAgFbWQHJCAADAqNBKckIAAECVeFRyQgAAgOdyXnJCAADAOW1ockIAAMBacHFyQgAAAK1qe3JCAACAmRKFckIAAMDrDI9yQgAAQNi0mHJCAACAKq+ickIAAMB8qaxyQgAAQGlRtnJCAACAu0vAckIAAACo88lyQgAAQPrt03JCAACATOjdckIAAIBt6+ZyQgAAwL/l8HJCAABArI36ckIAAID+hwRzQgAAAOsvDnNCAABAPSoYc0IAAICPJCJzQgAAAHzMK3NCAABAzsY1c0IAAMC6bj9zQgAAAA1pSXNCAABAX2NTc0IAAADmuFxzQgAAQDizZnNCAADAJFtwc0IAAAB3VXpzQgAAgGP9g3NCAADAtfeNc0IAAAAI8pdzQgAAgPSZoXNCAADARpSrc0IAAEAzPLVzQgAAgIU2v3NCAADA1zDJc0IAAMD4M9JzQgAAAEsu3HNCAACAN9blc0IAAMCJ0O9zQgAAQHZ4+XNCAACAyHIDdEIAAMAabQ10QgAAQAcVF3RCAACAWQ8hdEIAAABGtyp0QgAAQJixNHRCAACA6qs+dEIAAIALr0d0QgAAwF2pUXRCAABASlFbdEIAAICcS2V0QgAAAInzbnRCAABA2+14dEIAAIAt6IJ0QgAAABqQjHRCAABAbIqWdEIAAMBYMqB0QgAAAKssqnRCAABA/Sa0dEIAAEAeKr10QgAAgHAkx3RCAAAAXczQdEIAAECvxtp0QgAAwJtu5HRCAAAA7mjudEIAAEBAY/h0QgAAwCwLAnVCAAAAfwUMdUIAAIBrrRV1QgAAwL2nH3VCAAAAEKIpdUIAAMCW9zJ1QgAAAOnxPHVCAACA1ZlGdUIAAMAnlFB1QgAAQBQ8WnVCAACAZjZkdUIAAMC4MG51QgAAQKXYd3VCAACA99KBdUIAAADkeot1QgAAQDZ1lXVCAACAiG+fdUIAAICpcqh1QgAAwPtssnVCAABA6BS8dUIAAIA6D8Z1QgAAACe3z3VCAABAebHZdUIAAIDLq+N1QgAAALhT7XVCAABACk73dUIAAMD29QB2QgAAAEnwCnZCAABAm+oUdkIAAEC87R12QgAAgA7oJ3ZCAAAA+48xdkIAAEBNijt2QgAAwDkyRXZCAAAAjCxPdkIAAEDeJll2QgAAwMrOYnZCAAAAHclsdkIAAIAJcXZ2QgAAwFtrgHZCAAAArmWKdkIAAADPaJN2QgAAQCFjnXZCAADADQundkIAAABgBbF2QgAAgEytunZCAADAnqfEdkIAAADxoc52QgAAgN1J2HZCAADAL0TidkIAAEAc7Ot2QgAAgG7m9XZCAADAwOD/dkIAAIBHNgl3QgAAwJkwE3dCAABAhtgcd0IAAIDY0iZ3QgAAAMV6MHdCAABAF3U6d0IAAIBpb0R3QgAAAFYXTndCAABAqBFYd0IAAMCUuWF3QgAAAOeza3dCAABAOa51d0IAAEBasX53QgAAgKyriHdCAAAAmVOSd0IAAEDrTZx3QgAAwNf1pXdCAAAAKvCvd0IAAEB86rl3QgAAwGiSw3dCAAAAu4zNd0IAAICnNNd3QgAAwPku4XdCAAAATCnrd0IAAABtLPR3QgAAQL8m/ndCAADAq84HeEIAAAD+yBF4QgAAgOpwG3hCAADAPGsleEIAAACPZS94QgAAgHsNOXhCAADAzQdDeEIAAEC6r0x4QgAAgAyqVnhCAADAXqRgeEI=\",\"dtype\":\"float64\",\"order\":\"little\",\"shape\":[184]}},\"selected\":{\"id\":\"119752\"},\"selection_policy\":{\"id\":\"119751\"}},\"id\":\"119705\",\"type\":\"ColumnDataSource\"},{\"attributes\":{\"below\":[{\"id\":\"119779\"}],\"center\":[{\"id\":\"119782\"},{\"id\":\"119786\"},{\"id\":\"119830\"}],\"height\":500,\"left\":[{\"id\":\"119783\"}],\"renderers\":[{\"id\":\"119805\"}],\"title\":{\"id\":\"119832\"},\"toolbar\":{\"id\":\"119794\"},\"width\":500,\"x_range\":{\"id\":\"119771\"},\"x_scale\":{\"id\":\"119775\"},\"y_range\":{\"id\":\"119773\"},\"y_scale\":{\"id\":\"119777\"}},\"id\":\"119770\",\"subtype\":\"Figure\",\"type\":\"Plot\"},{\"attributes\":{\"months\":[0,2,4,6,8,10]},\"id\":\"119762\",\"type\":\"MonthsTicker\"},{\"attributes\":{\"mantissas\":[1,2,5],\"max_interval\":500.0,\"num_minor_ticks\":0},\"id\":\"119818\",\"type\":\"AdaptiveTicker\"},{\"attributes\":{\"base\":60,\"mantissas\":[1,2,5,10,15,20,30],\"max_interval\":1800000.0,\"min_interval\":1000.0,\"num_minor_ticks\":0},\"id\":\"119819\",\"type\":\"AdaptiveTicker\"},{\"attributes\":{\"base\":24,\"mantissas\":[1,2,4,6,8,12],\"max_interval\":43200000.0,\"min_interval\":3600000.0,\"num_minor_ticks\":0},\"id\":\"119820\",\"type\":\"AdaptiveTicker\"},{\"attributes\":{\"days\":[1,15]},\"id\":\"119760\",\"type\":\"DaysTicker\"},{\"attributes\":{\"months\":[0,1,2,3,4,5,6,7,8,9,10,11]},\"id\":\"119825\",\"type\":\"MonthsTicker\"},{\"attributes\":{\"days\":[1,15]},\"id\":\"119824\",\"type\":\"DaysTicker\"},{\"attributes\":{\"days\":[1,2,3,4,5,6,7,8,9,10,11,12,13,14,15,16,17,18,19,20,21,22,23,24,25,26,27,28,29,30,31]},\"id\":\"119821\",\"type\":\"DaysTicker\"},{\"attributes\":{\"days\":[1,4,7,10,13,16,19,22,25,28]},\"id\":\"119822\",\"type\":\"DaysTicker\"},{\"attributes\":{\"days\":[1,8,15,22]},\"id\":\"119823\",\"type\":\"DaysTicker\"},{\"attributes\":{\"months\":[0,6]},\"id\":\"119828\",\"type\":\"MonthsTicker\"},{\"attributes\":{\"months\":[0,2,4,6,8,10]},\"id\":\"119826\",\"type\":\"MonthsTicker\"},{\"attributes\":{\"days\":[1,2,3,4,5,6,7,8,9,10,11,12,13,14,15,16,17,18,19,20,21,22,23,24,25,26,27,28,29,30,31]},\"id\":\"119757\",\"type\":\"DaysTicker\"},{\"attributes\":{\"months\":[0,4,8]},\"id\":\"119827\",\"type\":\"MonthsTicker\"},{\"attributes\":{\"base\":24,\"mantissas\":[1,2,4,6,8,12],\"max_interval\":43200000.0,\"min_interval\":3600000.0,\"num_minor_ticks\":0},\"id\":\"119756\",\"type\":\"AdaptiveTicker\"},{\"attributes\":{\"months\":[0,4,8]},\"id\":\"119763\",\"type\":\"MonthsTicker\"},{\"attributes\":{\"mantissas\":[1,2,5],\"max_interval\":500.0,\"num_minor_ticks\":0},\"id\":\"119754\",\"type\":\"AdaptiveTicker\"},{\"attributes\":{},\"id\":\"119773\",\"type\":\"DataRange1d\"},{\"attributes\":{\"coordinates\":null,\"group\":null,\"text\":\"Dollars Worth of Business Inventories from 2007-2023\"},\"id\":\"119768\",\"type\":\"Title\"},{\"attributes\":{\"axis_label\":\"Year\",\"coordinates\":null,\"formatter\":{\"id\":\"119813\"},\"group\":null,\"major_label_policy\":{\"id\":\"119814\"},\"ticker\":{\"id\":\"119780\"}},\"id\":\"119779\",\"type\":\"DatetimeAxis\"},{\"attributes\":{\"coordinates\":null,\"data_source\":{\"id\":\"119705\"},\"glyph\":{\"id\":\"119802\"},\"group\":null,\"hover_glyph\":null,\"muted_glyph\":{\"id\":\"119804\"},\"nonselection_glyph\":{\"id\":\"119803\"},\"view\":{\"id\":\"119806\"}},\"id\":\"119805\",\"type\":\"GlyphRenderer\"},{\"attributes\":{\"line_color\":\"Red\",\"x\":{\"field\":\"DATE\"},\"y\":{\"field\":\"ALTSALES\"}},\"id\":\"119802\",\"type\":\"Line\"},{\"attributes\":{},\"id\":\"119775\",\"type\":\"LinearScale\"},{\"attributes\":{},\"id\":\"119771\",\"type\":\"DataRange1d\"},{\"attributes\":{},\"id\":\"119777\",\"type\":\"LinearScale\"},{\"attributes\":{\"axis_label\":\"Millions of Dollars\",\"coordinates\":null,\"formatter\":{\"id\":\"119810\"},\"group\":null,\"major_label_policy\":{\"id\":\"119811\"},\"ticker\":{\"id\":\"119784\"}},\"id\":\"119783\",\"type\":\"LinearAxis\"},{\"attributes\":{\"num_minor_ticks\":5,\"tickers\":[{\"id\":\"119818\"},{\"id\":\"119819\"},{\"id\":\"119820\"},{\"id\":\"119821\"},{\"id\":\"119822\"},{\"id\":\"119823\"},{\"id\":\"119824\"},{\"id\":\"119825\"},{\"id\":\"119826\"},{\"id\":\"119827\"},{\"id\":\"119828\"},{\"id\":\"119829\"}]},\"id\":\"119780\",\"type\":\"DatetimeTicker\"},{\"attributes\":{\"axis\":{\"id\":\"119779\"},\"coordinates\":null,\"group\":null,\"ticker\":null},\"id\":\"119782\",\"type\":\"Grid\"},{\"attributes\":{},\"id\":\"119788\",\"type\":\"WheelZoomTool\"},{\"attributes\":{\"months\":[0,6]},\"id\":\"119764\",\"type\":\"MonthsTicker\"},{\"attributes\":{\"axis\":{\"id\":\"119783\"},\"coordinates\":null,\"dimension\":1,\"group\":null,\"ticker\":null},\"id\":\"119786\",\"type\":\"Grid\"},{\"attributes\":{},\"id\":\"119784\",\"type\":\"BasicTicker\"},{\"attributes\":{\"months\":[0,1,2,3,4,5,6,7,8,9,10,11]},\"id\":\"119761\",\"type\":\"MonthsTicker\"},{\"attributes\":{},\"id\":\"119792\",\"type\":\"HelpTool\"},{\"attributes\":{},\"id\":\"119787\",\"type\":\"PanTool\"},{\"attributes\":{\"overlay\":{\"id\":\"119793\"}},\"id\":\"119789\",\"type\":\"BoxZoomTool\"},{\"attributes\":{},\"id\":\"119765\",\"type\":\"YearsTicker\"},{\"attributes\":{},\"id\":\"119790\",\"type\":\"SaveTool\"},{\"attributes\":{},\"id\":\"119791\",\"type\":\"ResetTool\"},{\"attributes\":{\"coordinates\":null,\"group\":null,\"text\":\"Dollars Worth of Auto and Light Truck Sales from 2007-2023\"},\"id\":\"119832\",\"type\":\"Title\"},{\"attributes\":{\"bottom_units\":\"screen\",\"coordinates\":null,\"fill_alpha\":0.5,\"fill_color\":\"lightgrey\",\"group\":null,\"left_units\":\"screen\",\"level\":\"overlay\",\"line_alpha\":1.0,\"line_color\":\"black\",\"line_dash\":[4,4],\"line_width\":2,\"right_units\":\"screen\",\"syncable\":false,\"top_units\":\"screen\"},\"id\":\"119793\",\"type\":\"BoxAnnotation\"},{\"attributes\":{\"tools\":[{\"id\":\"119787\"},{\"id\":\"119788\"},{\"id\":\"119789\"},{\"id\":\"119790\"},{\"id\":\"119791\"},{\"id\":\"119792\"}]},\"id\":\"119794\",\"type\":\"Toolbar\"},{\"attributes\":{\"days\":[1,8,15,22]},\"id\":\"119759\",\"type\":\"DaysTicker\"},{\"attributes\":{\"days\":[1,4,7,10,13,16,19,22,25,28]},\"id\":\"119758\",\"type\":\"DaysTicker\"},{\"attributes\":{\"base\":60,\"mantissas\":[1,2,5,10,15,20,30],\"max_interval\":1800000.0,\"min_interval\":1000.0,\"num_minor_ticks\":0},\"id\":\"119755\",\"type\":\"AdaptiveTicker\"},{\"attributes\":{\"axis\":{\"id\":\"119719\"},\"coordinates\":null,\"dimension\":1,\"group\":null,\"ticker\":null},\"id\":\"119722\",\"type\":\"Grid\"}],\"root_ids\":[\"119834\"]},\"title\":\"Bokeh Application\",\"version\":\"2.4.2\"}};\n",
       "  const render_items = [{\"docid\":\"1f51cbeb-fc9f-4ca9-98ab-25f3efe20100\",\"root_ids\":[\"119834\"],\"roots\":{\"119834\":\"2c64f3f4-824b-4ed3-abcb-c18741aafd7e\"}}];\n",
       "  root.Bokeh.embed.embed_items_notebook(docs_json, render_items);\n",
       "\n",
       "  }\n",
       "  if (root.Bokeh !== undefined) {\n",
       "    embed_document(root);\n",
       "  } else {\n",
       "    let attempts = 0;\n",
       "    const timer = setInterval(function(root) {\n",
       "      if (root.Bokeh !== undefined) {\n",
       "        clearInterval(timer);\n",
       "        embed_document(root);\n",
       "      } else {\n",
       "        attempts++;\n",
       "        if (attempts > 100) {\n",
       "          clearInterval(timer);\n",
       "          console.log(\"Bokeh: ERROR: Unable to run BokehJS code because BokehJS library is missing\");\n",
       "        }\n",
       "      }\n",
       "    }, 10, root)\n",
       "  }\n",
       "})(window);"
      ],
      "application/vnd.bokehjs_exec.v0+json": ""
     },
     "metadata": {
      "application/vnd.bokehjs_exec.v0+json": {
       "id": "119834"
      }
     },
     "output_type": "display_data"
    }
   ],
   "source": [
    "source = ColumnDataSource(data=output2)\n",
    "\n",
    "fig_one = figure(x_axis_label=\"Year\", y_axis_label=\"Millions of Dollars of Business Inventory\", \n",
    "                 x_axis_type=\"datetime\",\n",
    "                 width = 500, height = 500)\n",
    "fig_one.line(x=\"DATE\", y=\"BUSINV\", source=source, legend_label=\"Business Inventory Units\")\n",
    "fig_one.title = \"Dollars Worth of Business Inventories from 2007-2023\" \n",
    "fig_one.legend.location = \"top_left\"\n",
    "\n",
    "fig_two = figure(x_axis_label=\"Year\", y_axis_label=\"Millions of Dollars\", x_axis_type=\"datetime\",\n",
    "                 width = 500, height = 500)\n",
    "fig_two.line(x='DATE', y='ALTSALES', source=source, color='Red', legend_label=\"Auto and Light Trucks Sales\")\n",
    "fig_two.title = \"Dollars Worth of Auto and Light Truck Sales from 2007-2023\"\n",
    "fig_two.legend.location = \"top_left\"\n",
    "\n",
    "show(column(fig_one, fig_two))"
   ]
  },
  {
   "cell_type": "code",
   "execution_count": 631,
   "id": "6322bd20",
   "metadata": {},
   "outputs": [
    {
     "data": {
      "text/html": [
       "\n",
       "\n",
       "\n",
       "\n",
       "\n",
       "\n",
       "  <div class=\"bk-root\" id=\"4b084624-7808-4c0e-86c4-1a794fb86d58\" data-root-id=\"121981\"></div>\n"
      ]
     },
     "metadata": {},
     "output_type": "display_data"
    },
    {
     "data": {
      "application/javascript": [
       "(function(root) {\n",
       "  function embed_document(root) {\n",
       "    \n",
       "  const docs_json = {\"6cb15d85-b65b-49a2-af48-bfe015aa00fe\":{\"defs\":[],\"roots\":{\"references\":[{\"attributes\":{\"below\":[{\"id\":\"121990\"}],\"center\":[{\"id\":\"121993\"},{\"id\":\"121997\"},{\"id\":\"122043\"}],\"left\":[{\"id\":\"121994\"}],\"renderers\":[{\"id\":\"122020\"},{\"id\":\"122049\"}],\"title\":{\"id\":\"122014\"},\"toolbar\":{\"id\":\"122005\"},\"x_range\":{\"id\":\"121982\"},\"x_scale\":{\"id\":\"121986\"},\"y_range\":{\"id\":\"121984\"},\"y_scale\":{\"id\":\"121988\"}},\"id\":\"121981\",\"subtype\":\"Figure\",\"type\":\"Plot\"},{\"attributes\":{\"axis_label\":\"Year\",\"coordinates\":null,\"formatter\":{\"id\":\"122026\"},\"group\":null,\"major_label_policy\":{\"id\":\"122027\"},\"ticker\":{\"id\":\"121991\"}},\"id\":\"121990\",\"type\":\"DatetimeAxis\"},{\"attributes\":{\"line_color\":\"#1f77b4\",\"x\":{\"field\":\"DATE\"},\"y\":{\"field\":\"BUSINV\"}},\"id\":\"122017\",\"type\":\"Line\"},{\"attributes\":{},\"id\":\"122024\",\"type\":\"AllLabels\"},{\"attributes\":{\"label\":{\"value\":\"Auto and Light Trucks Sales\"},\"renderers\":[{\"id\":\"122049\"}]},\"id\":\"122072\",\"type\":\"LegendItem\"},{\"attributes\":{\"mantissas\":[1,2,5],\"max_interval\":500.0,\"num_minor_ticks\":0},\"id\":\"122031\",\"type\":\"AdaptiveTicker\"},{\"attributes\":{},\"id\":\"121982\",\"type\":\"DataRange1d\"},{\"attributes\":{},\"id\":\"122026\",\"type\":\"DatetimeTickFormatter\"},{\"attributes\":{},\"id\":\"121999\",\"type\":\"WheelZoomTool\"},{\"attributes\":{\"base\":60,\"mantissas\":[1,2,5,10,15,20,30],\"max_interval\":1800000.0,\"min_interval\":1000.0,\"num_minor_ticks\":0},\"id\":\"122032\",\"type\":\"AdaptiveTicker\"},{\"attributes\":{\"base\":24,\"mantissas\":[1,2,4,6,8,12],\"max_interval\":43200000.0,\"min_interval\":3600000.0,\"num_minor_ticks\":0},\"id\":\"122033\",\"type\":\"AdaptiveTicker\"},{\"attributes\":{},\"id\":\"122027\",\"type\":\"AllLabels\"},{\"attributes\":{},\"id\":\"122042\",\"type\":\"YearsTicker\"},{\"attributes\":{\"months\":[0,1,2,3,4,5,6,7,8,9,10,11]},\"id\":\"122038\",\"type\":\"MonthsTicker\"},{\"attributes\":{\"days\":[1,15]},\"id\":\"122037\",\"type\":\"DaysTicker\"},{\"attributes\":{\"overlay\":{\"id\":\"122004\"}},\"id\":\"122000\",\"type\":\"BoxZoomTool\"},{\"attributes\":{\"days\":[1,2,3,4,5,6,7,8,9,10,11,12,13,14,15,16,17,18,19,20,21,22,23,24,25,26,27,28,29,30,31]},\"id\":\"122034\",\"type\":\"DaysTicker\"},{\"attributes\":{\"days\":[1,4,7,10,13,16,19,22,25,28]},\"id\":\"122035\",\"type\":\"DaysTicker\"},{\"attributes\":{\"coordinates\":null,\"group\":null,\"text\":\"Business Inventories v. Auto Sales from 2007-2023\"},\"id\":\"122014\",\"type\":\"Title\"},{\"attributes\":{\"days\":[1,8,15,22]},\"id\":\"122036\",\"type\":\"DaysTicker\"},{\"attributes\":{\"months\":[0,6]},\"id\":\"122041\",\"type\":\"MonthsTicker\"},{\"attributes\":{\"months\":[0,2,4,6,8,10]},\"id\":\"122039\",\"type\":\"MonthsTicker\"},{\"attributes\":{\"months\":[0,4,8]},\"id\":\"122040\",\"type\":\"MonthsTicker\"},{\"attributes\":{},\"id\":\"122028\",\"type\":\"UnionRenderers\"},{\"attributes\":{\"label\":{\"value\":\"Business Inventory Units\"},\"renderers\":[{\"id\":\"122020\"}]},\"id\":\"122044\",\"type\":\"LegendItem\"},{\"attributes\":{\"tools\":[{\"id\":\"121998\"},{\"id\":\"121999\"},{\"id\":\"122000\"},{\"id\":\"122001\"},{\"id\":\"122002\"},{\"id\":\"122003\"}]},\"id\":\"122005\",\"type\":\"Toolbar\"},{\"attributes\":{},\"id\":\"122029\",\"type\":\"Selection\"},{\"attributes\":{},\"id\":\"122001\",\"type\":\"SaveTool\"},{\"attributes\":{},\"id\":\"122002\",\"type\":\"ResetTool\"},{\"attributes\":{\"click_policy\":\"hide\",\"coordinates\":null,\"group\":null,\"items\":[{\"id\":\"122044\"},{\"id\":\"122072\"}],\"location\":\"top_left\"},\"id\":\"122043\",\"type\":\"Legend\"},{\"attributes\":{\"num_minor_ticks\":5,\"tickers\":[{\"id\":\"122031\"},{\"id\":\"122032\"},{\"id\":\"122033\"},{\"id\":\"122034\"},{\"id\":\"122035\"},{\"id\":\"122036\"},{\"id\":\"122037\"},{\"id\":\"122038\"},{\"id\":\"122039\"},{\"id\":\"122040\"},{\"id\":\"122041\"},{\"id\":\"122042\"}]},\"id\":\"121991\",\"type\":\"DatetimeTicker\"},{\"attributes\":{\"axis\":{\"id\":\"121990\"},\"coordinates\":null,\"group\":null,\"ticker\":null},\"id\":\"121993\",\"type\":\"Grid\"},{\"attributes\":{},\"id\":\"121984\",\"type\":\"DataRange1d\"},{\"attributes\":{},\"id\":\"121995\",\"type\":\"BasicTicker\"},{\"attributes\":{},\"id\":\"122003\",\"type\":\"HelpTool\"},{\"attributes\":{\"format\":\"$0.0a\"},\"id\":\"122012\",\"type\":\"NumeralTickFormatter\"},{\"attributes\":{\"bottom_units\":\"screen\",\"coordinates\":null,\"fill_alpha\":0.5,\"fill_color\":\"lightgrey\",\"group\":null,\"left_units\":\"screen\",\"level\":\"overlay\",\"line_alpha\":1.0,\"line_color\":\"black\",\"line_dash\":[4,4],\"line_width\":2,\"right_units\":\"screen\",\"syncable\":false,\"top_units\":\"screen\"},\"id\":\"122004\",\"type\":\"BoxAnnotation\"},{\"attributes\":{},\"id\":\"121998\",\"type\":\"PanTool\"},{\"attributes\":{\"line_alpha\":0.1,\"line_color\":\"#1f77b4\",\"x\":{\"field\":\"DATE\"},\"y\":{\"field\":\"BUSINV\"}},\"id\":\"122018\",\"type\":\"Line\"},{\"attributes\":{\"source\":{\"id\":\"121980\"}},\"id\":\"122021\",\"type\":\"CDSView\"},{\"attributes\":{\"line_alpha\":0.2,\"line_color\":\"#1f77b4\",\"x\":{\"field\":\"DATE\"},\"y\":{\"field\":\"BUSINV\"}},\"id\":\"122019\",\"type\":\"Line\"},{\"attributes\":{\"line_alpha\":0.1,\"line_color\":\"Red\",\"x\":{\"field\":\"DATE\"},\"y\":{\"field\":\"ALTSALES\"}},\"id\":\"122047\",\"type\":\"Line\"},{\"attributes\":{\"coordinates\":null,\"data_source\":{\"id\":\"121980\"},\"glyph\":{\"id\":\"122046\"},\"group\":null,\"hover_glyph\":null,\"muted_glyph\":{\"id\":\"122048\"},\"nonselection_glyph\":{\"id\":\"122047\"},\"view\":{\"id\":\"122050\"}},\"id\":\"122049\",\"type\":\"GlyphRenderer\"},{\"attributes\":{\"axis\":{\"id\":\"121994\"},\"coordinates\":null,\"dimension\":1,\"group\":null,\"ticker\":null},\"id\":\"121997\",\"type\":\"Grid\"},{\"attributes\":{},\"id\":\"121986\",\"type\":\"LinearScale\"},{\"attributes\":{\"source\":{\"id\":\"121980\"}},\"id\":\"122050\",\"type\":\"CDSView\"},{\"attributes\":{},\"id\":\"121988\",\"type\":\"LinearScale\"},{\"attributes\":{\"coordinates\":null,\"data_source\":{\"id\":\"121980\"},\"glyph\":{\"id\":\"122017\"},\"group\":null,\"hover_glyph\":null,\"muted_glyph\":{\"id\":\"122019\"},\"nonselection_glyph\":{\"id\":\"122018\"},\"view\":{\"id\":\"122021\"}},\"id\":\"122020\",\"type\":\"GlyphRenderer\"},{\"attributes\":{\"line_color\":\"Red\",\"x\":{\"field\":\"DATE\"},\"y\":{\"field\":\"ALTSALES\"}},\"id\":\"122046\",\"type\":\"Line\"},{\"attributes\":{\"axis_label\":\"Millions of Dollars\",\"coordinates\":null,\"formatter\":{\"id\":\"122012\"},\"group\":null,\"major_label_policy\":{\"id\":\"122024\"},\"ticker\":{\"id\":\"121995\"}},\"id\":\"121994\",\"type\":\"LinearAxis\"},{\"attributes\":{\"line_alpha\":0.2,\"line_color\":\"Red\",\"x\":{\"field\":\"DATE\"},\"y\":{\"field\":\"ALTSALES\"}},\"id\":\"122048\",\"type\":\"Line\"},{\"attributes\":{\"data\":{\"ALTSALES\":{\"__ndarray__\":\"AAAAANh4OEEAAAAA2Ps3QQAAAAD8eDdBAAAAADgkN0EAAAAATJM2QQAAAABwxTVBAAAAAPDqNUEAAAAAJHY1QQAAAADMZjNBAAAAAOgbNUEAAAAAQFwzQQAAAABoRjBBAQAAALhLL0EAAAAAqPIuQQAAAADoNi1BAAAAADiJK0EAAAAAgCYtQf////8nESxBAAAAAGCBLkEAAAAAIGIuQQAAAABoWTFBAAAAAKA6NkEAAAAAWIYsQQAAAABYpi9BAAAAAGSBMEEAAAAAUOAwQQAAAACURzBBAAAAAODYLkEAAAAA5KAxQQAAAAAkKjFBAAAAAJQJMkEAAAAARF8xQQAAAAAs4DFBAAAAACgCMkEAAAAAfNsxQQAAAAA8nTJBAAAAANhqMkEAAAAAHOUyQQAAAAAsJTNBAAAAANyNM0EAAAAA4M8zQQAAAACU5DNBAAAAALBHMkEAAAAA1KsxQQAAAAAs8zJBAAAAALS7MkEAAAAASOAzQQAAAADcbjRBAAAAALh0NEEAAAAA3Ic0QQAAAABoczVBAAAAAMRNNkEAAAAAVLk1QQAAAAAg/DVBAAAAAHyRNUEAAAAA2Io1QQAAAABMZzVBAAAAALCANUEAAAAAPIU2QQAAAACIJTZBAAAAACgWN0EAAAAApBI3QQAAAACInDdBAAAAAPCsN0EAAAAAUIQ3QQAAAACMkzdBAAAAACS1N0EAAAAAuBE4QQAAAACo6jdBAAAAADihN0EAAAAACKk3QQAAAACobTdBAAAAAEj6N0EAAAAAPJg3QQAAAACkRDdBAAAAAGTUN0EBAAAAuFY5QQAAAABg1zhB/////+OJOUEAAAAAdCE6QQAAAABstjlBAAAAAKClOUEAAAAA3Dc5QQAAAABY6ThBAAAAAIA+OUEBAAAAtJE5QQAAAAAoIzlB/////xMeOUEAAAAA7KM6Qf/////jUTpBAAAAAECvOkEAAAAARI06QQEAAACsMztBAQAAANBfO0H/////AzY7QQEAAAAoMDtBAAAAALxBO0EAAAAARBA6QQAAAADo3jpBAAAAAKDqOkEAAAAAqKw5QQAAAAAcUTpBAAAAACBhOkEAAAAAGHM6QQAAAABAEztBAAAAAPTDOkEBAAAA2NA6QQEAAABY3TpBAQAAACyROkH/////h1I7QQAAAADoYTpBAAAAAEhrOkH/////P2o5QQAAAAAslzlBAQAAAGBtOUEAAAAAnHw5Qf/////nsjlBAAAAANhZOUEAAAAAdE07QQAAAABMjjtBAAAAAHjHOkEAAAAAdJ46Qf////9jEzpBAAAAAPzpOUEAAAAAcCo6QQEAAADYOjpBAAAAAHAROkEAAAAAwAw6QQAAAADI4TlBAAAAAFDDOUEAAAAAHGo6QQAAAACcJTtBAAAAAMC7OkEAAAAAZPQ6QQAAAAAslzlBAAAAACAcOUEAAAAAAEU6QQEAAAC86ThBAQAAAAgzOkEBAAAAMCQ6QQAAAACY6TlB/////48UOkH/////s0A6QQAAAAD80DlBAQAAAKw5OkEAAAAA7A06QQAAAABQwzlBAQAAAIxVOUEAAAAAdD4xQQAAAADILCpBAAAAAAxaMkEAAAAA4LYzQQAAAAB0azZBAAAAABxKN0EAAAAAAM44QQAAAABEYTlBAAAAAGBzOEEAAAAASCY5QQAAAAAYqzlBAAAAAFTfN0EAAAAADAs7Qf/////TujtB/////792OUEAAAAAiFE3QQAAAADwTjZBAAAAAADsM0EAAAAA/MgyQQAAAACgLTRBAAAAAFz+M0EAAAAAMGczQQAAAAAgDzdBAAAAAAjtNEEAAAAA7K40QQAAAABMyzVBAAAAAKwxM0EAAAAAtOczQQAAAADIUDRBAAAAAIgxNEEAAAAAWM80QQAAAAAkUTdBAAAAAPThNUEAAAAAOGg0QQAAAABAVzhBAAAAAITENkE=\",\"dtype\":\"float64\",\"order\":\"little\",\"shape\":[184]},\"BUSINV\":[1476711,1488235,1500273,1507254,1507954,1514500,1517410,1526797,1535784,1539096,1528676,1514303,1498141,1465791,1448108,1427127,1406242,1387601,1372420,1354610,1338635,1321616,1315445,1323731,1334188,1331724,1334024,1342810,1348723,1353793,1358003,1367802,1380021,1391903,1407137,1423612,1434604,1450655,1462613,1472405,1489202,1502745,1520933,1527307,1534675,1542149,1536963,1551018,1558157,1567519,1573930,1587109,1593441,1601743,1606170,1612127,1625149,1631918,1644771,1645674,1651868,1658372,1670510,1672719,1672793,1676749,1672742,1675962,1680327,1689002,1698527,1708488,1718498,1727517,1733641,1743177,1751233,1758236,1766201,1770242,1775330,1781548,1783478,1787514,1792479,1790258,1790541,1796110,1799513,1805536,1809895,1821352,1821934,1824656,1828249,1830953,1827209,1823662,1823964,1819217,1825535,1831509,1836736,1837378,1838941,1839478,1842511,1843940,1855581,1859476,1863533,1866788,1870321,1868727,1873141,1881356,1888090,1898902,1901909,1902866,1910844,1917863,1926128,1937107,1936750,1941928,1944939,1947405,1958405,1969335,1979715,1989311,1987184,2001713,2015507,2024558,2026682,2037747,2042706,2045451,2050688,2051745,2050356,2049771,2045201,2043089,2035366,2024835,2019013,1990821,1943475,1920935,1923969,1935064,1949483,1966575,1975547,1985542,1997969,2012101,2011921,2008834,2021110,2037482,2052646,2070538,2088896,2114550,2146651,2197933,2227277,2265923,2314760,2344496,2383214,2414605,2426864,2448394,2452641,2458874,2466292,2472058,2466430,2471584],\"DATE\":{\"__ndarray__\":\"AACAHYhfcUIAAAAKMGlxQgAAQFwqc3FCAACAriR9cUIAAEA1eoZxQgAAgId0kHFCAAAAdByacUIAAEDGFqRxQgAAwLK+rXFCAAAABbm3cUIAAEBXs8FxQgAAwENby3FCAAAAllXVcUIAAICC/d5xQgAAwNT36HFCAAAAJ/LycUIAAABI9ftxQgAAQJrvBXJCAADAhpcPckIAAADZkRlyQgAAgMU5I3JCAADAFzQtckIAAABqLjdyQgAAgFbWQHJCAADAqNBKckIAAECVeFRyQgAAgOdyXnJCAADAOW1ockIAAMBacHFyQgAAAK1qe3JCAACAmRKFckIAAMDrDI9yQgAAQNi0mHJCAACAKq+ickIAAMB8qaxyQgAAQGlRtnJCAACAu0vAckIAAACo88lyQgAAQPrt03JCAACATOjdckIAAIBt6+ZyQgAAwL/l8HJCAABArI36ckIAAID+hwRzQgAAAOsvDnNCAABAPSoYc0IAAICPJCJzQgAAAHzMK3NCAABAzsY1c0IAAMC6bj9zQgAAAA1pSXNCAABAX2NTc0IAAADmuFxzQgAAQDizZnNCAADAJFtwc0IAAAB3VXpzQgAAgGP9g3NCAADAtfeNc0IAAAAI8pdzQgAAgPSZoXNCAADARpSrc0IAAEAzPLVzQgAAgIU2v3NCAADA1zDJc0IAAMD4M9JzQgAAAEsu3HNCAACAN9blc0IAAMCJ0O9zQgAAQHZ4+XNCAACAyHIDdEIAAMAabQ10QgAAQAcVF3RCAACAWQ8hdEIAAABGtyp0QgAAQJixNHRCAACA6qs+dEIAAIALr0d0QgAAwF2pUXRCAABASlFbdEIAAICcS2V0QgAAAInzbnRCAABA2+14dEIAAIAt6IJ0QgAAABqQjHRCAABAbIqWdEIAAMBYMqB0QgAAAKssqnRCAABA/Sa0dEIAAEAeKr10QgAAgHAkx3RCAAAAXczQdEIAAECvxtp0QgAAwJtu5HRCAAAA7mjudEIAAEBAY/h0QgAAwCwLAnVCAAAAfwUMdUIAAIBrrRV1QgAAwL2nH3VCAAAAEKIpdUIAAMCW9zJ1QgAAAOnxPHVCAACA1ZlGdUIAAMAnlFB1QgAAQBQ8WnVCAACAZjZkdUIAAMC4MG51QgAAQKXYd3VCAACA99KBdUIAAADkeot1QgAAQDZ1lXVCAACAiG+fdUIAAICpcqh1QgAAwPtssnVCAABA6BS8dUIAAIA6D8Z1QgAAACe3z3VCAABAebHZdUIAAIDLq+N1QgAAALhT7XVCAABACk73dUIAAMD29QB2QgAAAEnwCnZCAABAm+oUdkIAAEC87R12QgAAgA7oJ3ZCAAAA+48xdkIAAEBNijt2QgAAwDkyRXZCAAAAjCxPdkIAAEDeJll2QgAAwMrOYnZCAAAAHclsdkIAAIAJcXZ2QgAAwFtrgHZCAAAArmWKdkIAAADPaJN2QgAAQCFjnXZCAADADQundkIAAABgBbF2QgAAgEytunZCAADAnqfEdkIAAADxoc52QgAAgN1J2HZCAADAL0TidkIAAEAc7Ot2QgAAgG7m9XZCAADAwOD/dkIAAIBHNgl3QgAAwJkwE3dCAABAhtgcd0IAAIDY0iZ3QgAAAMV6MHdCAABAF3U6d0IAAIBpb0R3QgAAAFYXTndCAABAqBFYd0IAAMCUuWF3QgAAAOeza3dCAABAOa51d0IAAEBasX53QgAAgKyriHdCAAAAmVOSd0IAAEDrTZx3QgAAwNf1pXdCAAAAKvCvd0IAAEB86rl3QgAAwGiSw3dCAAAAu4zNd0IAAICnNNd3QgAAwPku4XdCAAAATCnrd0IAAABtLPR3QgAAQL8m/ndCAADAq84HeEIAAAD+yBF4QgAAgOpwG3hCAADAPGsleEIAAACPZS94QgAAgHsNOXhCAADAzQdDeEIAAEC6r0x4QgAAgAyqVnhCAADAXqRgeEI=\",\"dtype\":\"float64\",\"order\":\"little\",\"shape\":[184]}},\"selected\":{\"id\":\"122029\"},\"selection_policy\":{\"id\":\"122028\"}},\"id\":\"121980\",\"type\":\"ColumnDataSource\"}],\"root_ids\":[\"121981\"]},\"title\":\"Bokeh Application\",\"version\":\"2.4.2\"}};\n",
       "  const render_items = [{\"docid\":\"6cb15d85-b65b-49a2-af48-bfe015aa00fe\",\"root_ids\":[\"121981\"],\"roots\":{\"121981\":\"4b084624-7808-4c0e-86c4-1a794fb86d58\"}}];\n",
       "  root.Bokeh.embed.embed_items_notebook(docs_json, render_items);\n",
       "\n",
       "  }\n",
       "  if (root.Bokeh !== undefined) {\n",
       "    embed_document(root);\n",
       "  } else {\n",
       "    let attempts = 0;\n",
       "    const timer = setInterval(function(root) {\n",
       "      if (root.Bokeh !== undefined) {\n",
       "        clearInterval(timer);\n",
       "        embed_document(root);\n",
       "      } else {\n",
       "        attempts++;\n",
       "        if (attempts > 100) {\n",
       "          clearInterval(timer);\n",
       "          console.log(\"Bokeh: ERROR: Unable to run BokehJS code because BokehJS library is missing\");\n",
       "        }\n",
       "      }\n",
       "    }, 10, root)\n",
       "  }\n",
       "})(window);"
      ],
      "application/vnd.bokehjs_exec.v0+json": ""
     },
     "metadata": {
      "application/vnd.bokehjs_exec.v0+json": {
       "id": "121981"
      }
     },
     "output_type": "display_data"
    }
   ],
   "source": [
    "source = ColumnDataSource(data=output2)\n",
    "\n",
    "fig=figure(x_axis_label=\"Year\", y_axis_label=\"Millions of Dollars\",\n",
    "            x_axis_type=\"datetime\")\n",
    "fig.yaxis[0].formatter = NumeralTickFormatter(format=\"$0.0a\")\n",
    "fig.title = \"Business Inventories v. Auto Sales from 2007-2023\"\n",
    "fig.line(x=\"DATE\", y=\"BUSINV\", source=source, legend_label=\"Business Inventory Units\")\n",
    "fig.line(x='DATE', y='ALTSALES', source=source, color='Red', legend_label=\"Auto and Light Trucks Sales\")\n",
    "fig.legend.location = \"top_left\"\n",
    "fig.legend.click_policy = \"hide\"\n",
    "show(fig)"
   ]
  },
  {
   "cell_type": "markdown",
   "id": "38a12a1e",
   "metadata": {},
   "source": [
    "Hover = HoverTool()\n",
    "hover = HoverTool(\n",
    "    tooltips = [\n",
    "        (\"Date\", \"@date_time\")])\n",
    "fig.add_tools(hover)\n",
    "\n",
    "show(fig)"
   ]
  },
  {
   "cell_type": "code",
   "execution_count": null,
   "id": "d728fa93",
   "metadata": {},
   "outputs": [],
   "source": []
  },
  {
   "cell_type": "code",
   "execution_count": null,
   "id": "b0bfb4bc",
   "metadata": {},
   "outputs": [],
   "source": []
  },
  {
   "cell_type": "code",
   "execution_count": null,
   "id": "aa1d2b3c",
   "metadata": {},
   "outputs": [],
   "source": []
  },
  {
   "cell_type": "code",
   "execution_count": null,
   "id": "29a5e099",
   "metadata": {},
   "outputs": [],
   "source": []
  },
  {
   "cell_type": "code",
   "execution_count": null,
   "id": "03fc4008",
   "metadata": {},
   "outputs": [],
   "source": []
  },
  {
   "cell_type": "code",
   "execution_count": null,
   "id": "4e14794e",
   "metadata": {},
   "outputs": [],
   "source": []
  },
  {
   "cell_type": "code",
   "execution_count": null,
   "id": "c240c184",
   "metadata": {},
   "outputs": [],
   "source": []
  },
  {
   "cell_type": "code",
   "execution_count": null,
   "id": "679c199c",
   "metadata": {},
   "outputs": [],
   "source": []
  },
  {
   "cell_type": "code",
   "execution_count": null,
   "id": "0cab6b0a",
   "metadata": {},
   "outputs": [],
   "source": []
  },
  {
   "cell_type": "code",
   "execution_count": null,
   "id": "ebe1658d",
   "metadata": {},
   "outputs": [],
   "source": []
  },
  {
   "cell_type": "code",
   "execution_count": null,
   "id": "06a50eae",
   "metadata": {},
   "outputs": [],
   "source": []
  }
 ],
 "metadata": {
  "kernelspec": {
   "display_name": "Python 3 (ipykernel)",
   "language": "python",
   "name": "python3"
  },
  "language_info": {
   "codemirror_mode": {
    "name": "ipython",
    "version": 3
   },
   "file_extension": ".py",
   "mimetype": "text/x-python",
   "name": "python",
   "nbconvert_exporter": "python",
   "pygments_lexer": "ipython3",
   "version": "3.9.12"
  }
 },
 "nbformat": 4,
 "nbformat_minor": 5
}
